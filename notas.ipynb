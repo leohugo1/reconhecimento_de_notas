{
 "cells": [
  {
   "cell_type": "markdown",
   "metadata": {},
   "source": []
  },
  {
   "cell_type": "code",
   "execution_count": 1,
   "metadata": {},
   "outputs": [],
   "source": [
    "import pandas as pd\n",
    "import numpy as np \n",
    "import matplotlib.pylab as plt\n",
    "import seaborn as sns\n",
    "from PIL import Image\n",
    "\n",
    "from glob import glob\n",
    "\n",
    "import librosa\n",
    "import librosa.display\n",
    "import IPython.display as ipd\n",
    "\n",
    "from itertools import cycle\n",
    "\n",
    "sns.set_theme(style=\"white\",palette=None)\n",
    "color_pal=plt.rcParams[\"axes.prop_cycle\"].by_key()[\"color\"]\n",
    "color_cycle=cycle(plt.rcParams[\"axes.prop_cycle\"].by_key()[\"color\"])"
   ]
  },
  {
   "cell_type": "code",
   "execution_count": null,
   "metadata": {},
   "outputs": [],
   "source": [
    "audio_files=glob('./Training/G/*.wav')\n",
    "num=1260\n",
    "for i in range(0,len(audio_files)):\n",
    "    y,sr=librosa.load(audio_files[i])\n",
    "    S=librosa.stft(y=y)\n",
    "    S_db_stft=librosa.amplitude_to_db(S,ref=np.max)\n",
    "    fig, ax=plt.subplots(figsize=(10,5))\n",
    "    img=librosa.display.specshow(S_db_stft)\n",
    "    fig.savefig(\"./train_img/\" +str(num)+\".jpg\")\n",
    "    num = num + 1"
   ]
  },
  {
   "cell_type": "code",
   "execution_count": 32,
   "metadata": {},
   "outputs": [],
   "source": [
    "imagem=glob('./treino/Am/*.jpg')\n",
    "label=[]\n",
    "\n",
    "for i in range(180,359):\n",
    "    label.append(\"G\")\n"
   ]
  }
 ],
 "metadata": {
  "kernelspec": {
   "display_name": "Python 3.10.4 64-bit",
   "language": "python",
   "name": "python3"
  },
  "language_info": {
   "codemirror_mode": {
    "name": "ipython",
    "version": 3
   },
   "file_extension": ".py",
   "mimetype": "text/x-python",
   "name": "python",
   "nbconvert_exporter": "python",
   "pygments_lexer": "ipython3",
   "version": "3.10.4"
  },
  "orig_nbformat": 4,
  "vscode": {
   "interpreter": {
    "hash": "916dbcbb3f70747c44a77c7bcd40155683ae19c65e1c03b4aa3499c5328201f1"
   }
  }
 },
 "nbformat": 4,
 "nbformat_minor": 2
}
